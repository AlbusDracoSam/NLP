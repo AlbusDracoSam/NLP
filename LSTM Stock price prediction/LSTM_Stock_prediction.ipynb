{
  "nbformat": 4,
  "nbformat_minor": 0,
  "metadata": {
    "colab": {
      "name": "LSTM Stock prediction.ipynb",
      "provenance": [],
      "authorship_tag": "ABX9TyNsrQ698A5sAY7GEqTcxS16",
      "include_colab_link": true
    },
    "kernelspec": {
      "name": "python3",
      "display_name": "Python 3"
    },
    "language_info": {
      "name": "python"
    }
  },
  "cells": [
    {
      "cell_type": "markdown",
      "metadata": {
        "id": "view-in-github",
        "colab_type": "text"
      },
      "source": [
        "<a href=\"https://colab.research.google.com/github/AlbusDracoSam/NLP/blob/main/LSTM_Stock_prediction.ipynb\" target=\"_parent\"><img src=\"https://colab.research.google.com/assets/colab-badge.svg\" alt=\"Open In Colab\"/></a>"
      ]
    },
    {
      "cell_type": "markdown",
      "metadata": {
        "id": "XrYEW78fPmCe"
      },
      "source": [
        "# Requirements"
      ]
    },
    {
      "cell_type": "code",
      "metadata": {
        "id": "jlTDGecWPdEt"
      },
      "source": [
        "import pandas_datareader as pdr\n",
        "import pandas as pd\n",
        "key=\"0309c5a7d6e3fa8ae3c80f24b9232f98b64c846e\""
      ],
      "execution_count": 5,
      "outputs": []
    },
    {
      "cell_type": "markdown",
      "metadata": {
        "id": "cLjIveckSMaZ"
      },
      "source": [
        "# Fetching data"
      ]
    },
    {
      "cell_type": "code",
      "metadata": {
        "id": "RTDxHFbtRCq7"
      },
      "source": [
        "df = pdr.get_data_tiingo('AAPL', api_key = key)"
      ],
      "execution_count": 3,
      "outputs": []
    },
    {
      "cell_type": "markdown",
      "metadata": {
        "id": "6CSgQPoiSQWZ"
      },
      "source": [
        "# Saving the data"
      ]
    },
    {
      "cell_type": "code",
      "metadata": {
        "id": "QqhEFCWNRRou"
      },
      "source": [
        "df.to_csv('Apple.csv')"
      ],
      "execution_count": 4,
      "outputs": []
    },
    {
      "cell_type": "markdown",
      "metadata": {
        "id": "T-x3pZarST5M"
      },
      "source": [
        "# Data\n",
        "\n",
        "*We have the data till July 2, 2021 it means that we are having the data right two days before*\n",
        "\n",
        "*So we have the data from July,2016 to July,2021*"
      ]
    },
    {
      "cell_type": "code",
      "metadata": {
        "colab": {
          "base_uri": "https://localhost:8080/",
          "height": 233
        },
        "id": "lSI0Yx1PRx1e",
        "outputId": "21909c08-ce55-4766-c91e-5dab70390b36"
      },
      "source": [
        "df.head()"
      ],
      "execution_count": 29,
      "outputs": [
        {
          "output_type": "execute_result",
          "data": {
            "text/html": [
              "<div>\n",
              "<style scoped>\n",
              "    .dataframe tbody tr th:only-of-type {\n",
              "        vertical-align: middle;\n",
              "    }\n",
              "\n",
              "    .dataframe tbody tr th {\n",
              "        vertical-align: top;\n",
              "    }\n",
              "\n",
              "    .dataframe thead th {\n",
              "        text-align: right;\n",
              "    }\n",
              "</style>\n",
              "<table border=\"1\" class=\"dataframe\">\n",
              "  <thead>\n",
              "    <tr style=\"text-align: right;\">\n",
              "      <th></th>\n",
              "      <th></th>\n",
              "      <th>close</th>\n",
              "      <th>high</th>\n",
              "      <th>low</th>\n",
              "      <th>open</th>\n",
              "      <th>volume</th>\n",
              "      <th>adjClose</th>\n",
              "      <th>adjHigh</th>\n",
              "      <th>adjLow</th>\n",
              "      <th>adjOpen</th>\n",
              "      <th>adjVolume</th>\n",
              "      <th>divCash</th>\n",
              "      <th>splitFactor</th>\n",
              "    </tr>\n",
              "    <tr>\n",
              "      <th>symbol</th>\n",
              "      <th>date</th>\n",
              "      <th></th>\n",
              "      <th></th>\n",
              "      <th></th>\n",
              "      <th></th>\n",
              "      <th></th>\n",
              "      <th></th>\n",
              "      <th></th>\n",
              "      <th></th>\n",
              "      <th></th>\n",
              "      <th></th>\n",
              "      <th></th>\n",
              "      <th></th>\n",
              "    </tr>\n",
              "  </thead>\n",
              "  <tbody>\n",
              "    <tr>\n",
              "      <th rowspan=\"5\" valign=\"top\">AAPL</th>\n",
              "      <th>2016-07-06 00:00:00+00:00</th>\n",
              "      <td>95.53</td>\n",
              "      <td>95.66</td>\n",
              "      <td>94.37</td>\n",
              "      <td>94.60</td>\n",
              "      <td>30949090</td>\n",
              "      <td>22.307540</td>\n",
              "      <td>22.337896</td>\n",
              "      <td>22.036664</td>\n",
              "      <td>22.090372</td>\n",
              "      <td>123796360</td>\n",
              "      <td>0.0</td>\n",
              "      <td>1.0</td>\n",
              "    </tr>\n",
              "    <tr>\n",
              "      <th>2016-07-07 00:00:00+00:00</th>\n",
              "      <td>95.94</td>\n",
              "      <td>96.50</td>\n",
              "      <td>95.62</td>\n",
              "      <td>95.70</td>\n",
              "      <td>25139558</td>\n",
              "      <td>22.403280</td>\n",
              "      <td>22.534048</td>\n",
              "      <td>22.328556</td>\n",
              "      <td>22.347237</td>\n",
              "      <td>100558232</td>\n",
              "      <td>0.0</td>\n",
              "      <td>1.0</td>\n",
              "    </tr>\n",
              "    <tr>\n",
              "      <th>2016-07-08 00:00:00+00:00</th>\n",
              "      <td>96.68</td>\n",
              "      <td>96.89</td>\n",
              "      <td>96.05</td>\n",
              "      <td>96.49</td>\n",
              "      <td>28912103</td>\n",
              "      <td>22.576080</td>\n",
              "      <td>22.625118</td>\n",
              "      <td>22.428967</td>\n",
              "      <td>22.531713</td>\n",
              "      <td>115648412</td>\n",
              "      <td>0.0</td>\n",
              "      <td>1.0</td>\n",
              "    </tr>\n",
              "    <tr>\n",
              "      <th>2016-07-11 00:00:00+00:00</th>\n",
              "      <td>96.98</td>\n",
              "      <td>97.65</td>\n",
              "      <td>96.73</td>\n",
              "      <td>96.75</td>\n",
              "      <td>23794945</td>\n",
              "      <td>22.646134</td>\n",
              "      <td>22.802588</td>\n",
              "      <td>22.587756</td>\n",
              "      <td>22.592426</td>\n",
              "      <td>95179780</td>\n",
              "      <td>0.0</td>\n",
              "      <td>1.0</td>\n",
              "    </tr>\n",
              "    <tr>\n",
              "      <th>2016-07-12 00:00:00+00:00</th>\n",
              "      <td>97.42</td>\n",
              "      <td>97.70</td>\n",
              "      <td>97.12</td>\n",
              "      <td>97.17</td>\n",
              "      <td>24167463</td>\n",
              "      <td>22.748880</td>\n",
              "      <td>22.814264</td>\n",
              "      <td>22.678826</td>\n",
              "      <td>22.690502</td>\n",
              "      <td>96669852</td>\n",
              "      <td>0.0</td>\n",
              "      <td>1.0</td>\n",
              "    </tr>\n",
              "  </tbody>\n",
              "</table>\n",
              "</div>"
            ],
            "text/plain": [
              "                                  close   high  ...  divCash  splitFactor\n",
              "symbol date                                     ...                      \n",
              "AAPL   2016-07-06 00:00:00+00:00  95.53  95.66  ...      0.0          1.0\n",
              "       2016-07-07 00:00:00+00:00  95.94  96.50  ...      0.0          1.0\n",
              "       2016-07-08 00:00:00+00:00  96.68  96.89  ...      0.0          1.0\n",
              "       2016-07-11 00:00:00+00:00  96.98  97.65  ...      0.0          1.0\n",
              "       2016-07-12 00:00:00+00:00  97.42  97.70  ...      0.0          1.0\n",
              "\n",
              "[5 rows x 12 columns]"
            ]
          },
          "metadata": {
            "tags": []
          },
          "execution_count": 29
        }
      ]
    },
    {
      "cell_type": "code",
      "metadata": {
        "colab": {
          "base_uri": "https://localhost:8080/",
          "height": 233
        },
        "id": "_t2B3TedY3eG",
        "outputId": "050feafb-5316-4301-80f2-e1518936b1a6"
      },
      "source": [
        "df.tail()"
      ],
      "execution_count": 30,
      "outputs": [
        {
          "output_type": "execute_result",
          "data": {
            "text/html": [
              "<div>\n",
              "<style scoped>\n",
              "    .dataframe tbody tr th:only-of-type {\n",
              "        vertical-align: middle;\n",
              "    }\n",
              "\n",
              "    .dataframe tbody tr th {\n",
              "        vertical-align: top;\n",
              "    }\n",
              "\n",
              "    .dataframe thead th {\n",
              "        text-align: right;\n",
              "    }\n",
              "</style>\n",
              "<table border=\"1\" class=\"dataframe\">\n",
              "  <thead>\n",
              "    <tr style=\"text-align: right;\">\n",
              "      <th></th>\n",
              "      <th></th>\n",
              "      <th>close</th>\n",
              "      <th>high</th>\n",
              "      <th>low</th>\n",
              "      <th>open</th>\n",
              "      <th>volume</th>\n",
              "      <th>adjClose</th>\n",
              "      <th>adjHigh</th>\n",
              "      <th>adjLow</th>\n",
              "      <th>adjOpen</th>\n",
              "      <th>adjVolume</th>\n",
              "      <th>divCash</th>\n",
              "      <th>splitFactor</th>\n",
              "    </tr>\n",
              "    <tr>\n",
              "      <th>symbol</th>\n",
              "      <th>date</th>\n",
              "      <th></th>\n",
              "      <th></th>\n",
              "      <th></th>\n",
              "      <th></th>\n",
              "      <th></th>\n",
              "      <th></th>\n",
              "      <th></th>\n",
              "      <th></th>\n",
              "      <th></th>\n",
              "      <th></th>\n",
              "      <th></th>\n",
              "      <th></th>\n",
              "    </tr>\n",
              "  </thead>\n",
              "  <tbody>\n",
              "    <tr>\n",
              "      <th rowspan=\"5\" valign=\"top\">AAPL</th>\n",
              "      <th>2021-06-28 00:00:00+00:00</th>\n",
              "      <td>134.78</td>\n",
              "      <td>135.245</td>\n",
              "      <td>133.350</td>\n",
              "      <td>133.41</td>\n",
              "      <td>62111303</td>\n",
              "      <td>134.78</td>\n",
              "      <td>135.245</td>\n",
              "      <td>133.350</td>\n",
              "      <td>133.41</td>\n",
              "      <td>62111303</td>\n",
              "      <td>0.0</td>\n",
              "      <td>1.0</td>\n",
              "    </tr>\n",
              "    <tr>\n",
              "      <th>2021-06-29 00:00:00+00:00</th>\n",
              "      <td>136.33</td>\n",
              "      <td>136.490</td>\n",
              "      <td>134.350</td>\n",
              "      <td>134.80</td>\n",
              "      <td>64556081</td>\n",
              "      <td>136.33</td>\n",
              "      <td>136.490</td>\n",
              "      <td>134.350</td>\n",
              "      <td>134.80</td>\n",
              "      <td>64556081</td>\n",
              "      <td>0.0</td>\n",
              "      <td>1.0</td>\n",
              "    </tr>\n",
              "    <tr>\n",
              "      <th>2021-06-30 00:00:00+00:00</th>\n",
              "      <td>136.96</td>\n",
              "      <td>137.410</td>\n",
              "      <td>135.870</td>\n",
              "      <td>136.17</td>\n",
              "      <td>63261393</td>\n",
              "      <td>136.96</td>\n",
              "      <td>137.410</td>\n",
              "      <td>135.870</td>\n",
              "      <td>136.17</td>\n",
              "      <td>63261393</td>\n",
              "      <td>0.0</td>\n",
              "      <td>1.0</td>\n",
              "    </tr>\n",
              "    <tr>\n",
              "      <th>2021-07-01 00:00:00+00:00</th>\n",
              "      <td>137.27</td>\n",
              "      <td>137.330</td>\n",
              "      <td>135.760</td>\n",
              "      <td>136.60</td>\n",
              "      <td>52485781</td>\n",
              "      <td>137.27</td>\n",
              "      <td>137.330</td>\n",
              "      <td>135.760</td>\n",
              "      <td>136.60</td>\n",
              "      <td>52485781</td>\n",
              "      <td>0.0</td>\n",
              "      <td>1.0</td>\n",
              "    </tr>\n",
              "    <tr>\n",
              "      <th>2021-07-02 00:00:00+00:00</th>\n",
              "      <td>139.96</td>\n",
              "      <td>140.000</td>\n",
              "      <td>137.745</td>\n",
              "      <td>137.90</td>\n",
              "      <td>78945572</td>\n",
              "      <td>139.96</td>\n",
              "      <td>140.000</td>\n",
              "      <td>137.745</td>\n",
              "      <td>137.90</td>\n",
              "      <td>78945572</td>\n",
              "      <td>0.0</td>\n",
              "      <td>1.0</td>\n",
              "    </tr>\n",
              "  </tbody>\n",
              "</table>\n",
              "</div>"
            ],
            "text/plain": [
              "                                   close     high  ...  divCash  splitFactor\n",
              "symbol date                                        ...                      \n",
              "AAPL   2021-06-28 00:00:00+00:00  134.78  135.245  ...      0.0          1.0\n",
              "       2021-06-29 00:00:00+00:00  136.33  136.490  ...      0.0          1.0\n",
              "       2021-06-30 00:00:00+00:00  136.96  137.410  ...      0.0          1.0\n",
              "       2021-07-01 00:00:00+00:00  137.27  137.330  ...      0.0          1.0\n",
              "       2021-07-02 00:00:00+00:00  139.96  140.000  ...      0.0          1.0\n",
              "\n",
              "[5 rows x 12 columns]"
            ]
          },
          "metadata": {
            "tags": []
          },
          "execution_count": 30
        }
      ]
    },
    {
      "cell_type": "markdown",
      "metadata": {
        "id": "F1jdHdBLSql0"
      },
      "source": [
        "# Selecting the data\n",
        "\n",
        "*we are gonna select the closing stock price*"
      ]
    },
    {
      "cell_type": "code",
      "metadata": {
        "colab": {
          "base_uri": "https://localhost:8080/"
        },
        "id": "h-k22LX1Szzs",
        "outputId": "0fd42d52-7b41-4cae-ae2a-0640f6515ff0"
      },
      "source": [
        "df1 = df.reset_index()['close']\n",
        "df1.shape\n",
        "df1"
      ],
      "execution_count": 12,
      "outputs": [
        {
          "output_type": "execute_result",
          "data": {
            "text/plain": [
              "0        95.53\n",
              "1        95.94\n",
              "2        96.68\n",
              "3        96.98\n",
              "4        97.42\n",
              "         ...  \n",
              "1253    134.78\n",
              "1254    136.33\n",
              "1255    136.96\n",
              "1256    137.27\n",
              "1257    139.96\n",
              "Name: close, Length: 1258, dtype: float64"
            ]
          },
          "metadata": {
            "tags": []
          },
          "execution_count": 12
        }
      ]
    },
    {
      "cell_type": "markdown",
      "metadata": {
        "id": "qrJnahePTX5H"
      },
      "source": [
        "# Plotting the data"
      ]
    },
    {
      "cell_type": "code",
      "metadata": {
        "colab": {
          "base_uri": "https://localhost:8080/",
          "height": 283
        },
        "id": "Z_UsYK2fTZ6L",
        "outputId": "fe990136-8a7f-4569-ab96-313aae813680"
      },
      "source": [
        "import matplotlib.pyplot as plt\n",
        "plt.plot(df1)"
      ],
      "execution_count": 13,
      "outputs": [
        {
          "output_type": "execute_result",
          "data": {
            "text/plain": [
              "[<matplotlib.lines.Line2D at 0x7f00a6baee50>]"
            ]
          },
          "metadata": {
            "tags": []
          },
          "execution_count": 13
        },
        {
          "output_type": "display_data",
          "data": {
            "image/png": "[encoded data removed]",
            "text/plain": [
              "<Figure size 432x288 with 1 Axes>"
            ]
          },
          "metadata": {
            "tags": [],
            "needs_background": "light"
          }
        }
      ]
    },
    {
      "cell_type": "markdown",
      "metadata": {
        "id": "G7XKYbw2UI-n"
      },
      "source": [
        "# Scaling the data\n",
        "\n",
        "*Since LSTM are more sensitive to scale of the data. So we apple a* **MinMax** *scaler to scale the data between 0 and 1.*"
      ]
    },
    {
      "cell_type": "code",
      "metadata": {
        "colab": {
          "base_uri": "https://localhost:8080/"
        },
        "id": "W6P97wG_UnnS",
        "outputId": "02a39a3f-db70-407e-c2da-9c97b8fa5275"
      },
      "source": [
        "df1"
      ],
      "execution_count": 14,
      "outputs": [
        {
          "output_type": "execute_result",
          "data": {
            "text/plain": [
              "0        95.53\n",
              "1        95.94\n",
              "2        96.68\n",
              "3        96.98\n",
              "4        97.42\n",
              "         ...  \n",
              "1253    134.78\n",
              "1254    136.33\n",
              "1255    136.96\n",
              "1256    137.27\n",
              "1257    139.96\n",
              "Name: close, Length: 1258, dtype: float64"
            ]
          },
          "metadata": {
            "tags": []
          },
          "execution_count": 14
        }
      ]
    },
    {
      "cell_type": "code",
      "metadata": {
        "id": "YI3pmZ1rUsD2"
      },
      "source": [
        "import numpy as np\n",
        "from sklearn.preprocessing import MinMaxScaler\n",
        "scaler = MinMaxScaler(feature_range = (0,1))\n",
        "df1 = scaler.fit_transform(np.array(df1).reshape(-1,1))"
      ],
      "execution_count": 16,
      "outputs": []
    },
    {
      "cell_type": "code",
      "metadata": {
        "colab": {
          "base_uri": "https://localhost:8080/"
        },
        "id": "RjEoOtN8VMuT",
        "outputId": "14d6bd33-c7f7-4dd3-c622-d54fd2ff6360"
      },
      "source": [
        "print(df1)"
      ],
      "execution_count": 17,
      "outputs": [
        {
          "output_type": "stream",
          "text": [
            "[[0.        ]\n",
            " [0.00099864]\n",
            " [0.00280105]\n",
            " ...\n",
            " [0.10091095]\n",
            " [0.10166602]\n",
            " [0.10821804]]\n"
          ],
          "name": "stdout"
        }
      ]
    },
    {
      "cell_type": "markdown",
      "metadata": {
        "id": "6Lj0vnOWWK4A"
      },
      "source": [
        "# Train Test Split\n",
        "\n",
        "*In Time series data split the data should be splitted in a different manner. In classification and linear problems the data set can be either splitted in **Cross validation or Random seed** since there will be no relationship between the data.*\n",
        "\n",
        "*While in time series data the data is completely dependent so we do as follows.*"
      ]
    },
    {
      "cell_type": "code",
      "metadata": {
        "colab": {
          "base_uri": "https://localhost:8080/"
        },
        "id": "h0a41Km3W_fg",
        "outputId": "692adec1-aaf6-41e9-e4cf-228268ede4ec"
      },
      "source": [
        "train_size = (len(df1) * 0.65)\n",
        "test_size = len(df1) - train_size\n",
        "train_data, test_data = df1[0:int(train_size),:], df1[int(train_size):len(df1),:1]\n",
        "print(len(train_data),len(test_data))\n"
      ],
      "execution_count": 28,
      "outputs": [
        {
          "output_type": "stream",
          "text": [
            "817 441\n"
          ],
          "name": "stdout"
        }
      ]
    },
    {
      "cell_type": "markdown",
      "metadata": {
        "id": "ci8dSex4goUe"
      },
      "source": [
        "# Time series"
      ]
    },
    {
      "cell_type": "code",
      "metadata": {
        "id": "Pl8PLGdSgr-l"
      },
      "source": [
        "import numpy\n",
        "def create_dataset(dataset, time_step=1):\n",
        "\tdataX, dataY = [], []\n",
        "\tfor i in range(len(dataset)-time_step-1):\n",
        "\t\ta = dataset[i:(i+time_step), 0]   \n",
        "\t\tdataX.append(a)\n",
        "\t\tdataY.append(dataset[i + time_step, 0])\n",
        "\treturn numpy.array(dataX), numpy.array(dataY)"
      ],
      "execution_count": 31,
      "outputs": []
    },
    {
      "cell_type": "code",
      "metadata": {
        "id": "wvCXynDVgvgP"
      },
      "source": [
        "time_step = 100\n",
        "X_train, y_train = create_dataset(train_data, time_step)\n",
        "X_test, y_test = create_dataset(test_data, time_step)"
      ],
      "execution_count": 39,
      "outputs": []
    },
    {
      "cell_type": "code",
      "metadata": {
        "colab": {
          "base_uri": "https://localhost:8080/"
        },
        "id": "YlPzizzHhHk7",
        "outputId": "001881c8-5b32-4860-8901-9c01b0447323"
      },
      "source": [
        "print(X_train.shape)\n",
        "print(X_test.shape)\n",
        "print(y_train.shape)\n",
        "print(y_test.shape)"
      ],
      "execution_count": 41,
      "outputs": [
        {
          "output_type": "stream",
          "text": [
            "(716, 100)\n",
            "(340, 100)\n",
            "(716,)\n",
            "(340,)\n"
          ],
          "name": "stdout"
        }
      ]
    },
    {
      "cell_type": "markdown",
      "metadata": {
        "id": "eYEbKK5oh5Dk"
      },
      "source": [
        "# Reshaping the data"
      ]
    },
    {
      "cell_type": "code",
      "metadata": {
        "id": "Q6vlT5TSiAi5"
      },
      "source": [
        "X_train = X_train.reshape(X_train.shape[0],X_train.shape[1], 1)\n",
        "X_test = X_test.reshape(X_test.shape[0], X_test.shape[1], 1)"
      ],
      "execution_count": 42,
      "outputs": []
    },
    {
      "cell_type": "markdown",
      "metadata": {
        "id": "K57BDkPziW50"
      },
      "source": [
        "# Stacked LSTM model"
      ]
    },
    {
      "cell_type": "code",
      "metadata": {
        "id": "kokJa2tIia-K"
      },
      "source": [
        "from tensorflow.keras.models import Sequential\n",
        "from tensorflow.keras.layers import Dense\n",
        "from tensorflow.keras.layers import LSTM"
      ],
      "execution_count": 43,
      "outputs": []
    },
    {
      "cell_type": "code",
      "metadata": {
        "id": "xU_2VtuSitrz"
      },
      "source": [
        "model=Sequential()\n",
        "model.add(LSTM(50,return_sequences=True,input_shape=(100,1)))\n",
        "model.add(LSTM(50,return_sequences=True))\n",
        "model.add(LSTM(50))\n",
        "model.add(Dense(1))\n",
        "model.compile(loss='mean_squared_error',optimizer='adam')"
      ],
      "execution_count": 44,
      "outputs": []
    },
    {
      "cell_type": "code",
      "metadata": {
        "colab": {
          "base_uri": "https://localhost:8080/"
        },
        "id": "0C01962Di75X",
        "outputId": "016a8d06-407a-4cd4-82b2-44804da5f6f7"
      },
      "source": [
        "model.fit(X_train, y_train, validation_data = (X_test, y_test), batch_size=64, verbose=1, epochs=100)"
      ],
      "execution_count": 45,
      "outputs": [
        {
          "output_type": "stream",
          "text": [
            "Epoch 1/100\n",
            "12/12 [==============================] - 9s 303ms/step - loss: 0.0075 - val_loss: 0.0387\n",
            "Epoch 2/100\n",
            "12/12 [==============================] - 2s 203ms/step - loss: 0.0018 - val_loss: 0.0256\n",
            "Epoch 3/100\n",
            "12/12 [==============================] - 2s 203ms/step - loss: 9.4196e-04 - val_loss: 0.0213\n",
            "Epoch 4/100\n",
            "12/12 [==============================] - 2s 202ms/step - loss: 5.8755e-04 - val_loss: 0.0199\n",
            "Epoch 5/100\n",
            "12/12 [==============================] - 2s 201ms/step - loss: 4.7202e-04 - val_loss: 0.0204\n",
            "Epoch 6/100\n",
            "12/12 [==============================] - 2s 197ms/step - loss: 4.8207e-04 - val_loss: 0.0196\n",
            "Epoch 7/100\n",
            "12/12 [==============================] - 2s 198ms/step - loss: 4.1237e-04 - val_loss: 0.0189\n",
            "Epoch 8/100\n",
            "12/12 [==============================] - 2s 202ms/step - loss: 4.0525e-04 - val_loss: 0.0185\n",
            "Epoch 9/100\n",
            "12/12 [==============================] - 2s 196ms/step - loss: 3.8632e-04 - val_loss: 0.0181\n",
            "Epoch 10/100\n",
            "12/12 [==============================] - 2s 196ms/step - loss: 3.9034e-04 - val_loss: 0.0177\n",
            "Epoch 11/100\n",
            "12/12 [==============================] - 2s 196ms/step - loss: 3.6011e-04 - val_loss: 0.0172\n",
            "Epoch 12/100\n",
            "12/12 [==============================] - 2s 203ms/step - loss: 3.9329e-04 - val_loss: 0.0168\n",
            "Epoch 13/100\n",
            "12/12 [==============================] - 2s 196ms/step - loss: 3.8786e-04 - val_loss: 0.0168\n",
            "Epoch 14/100\n",
            "12/12 [==============================] - 2s 198ms/step - loss: 3.6202e-04 - val_loss: 0.0161\n",
            "Epoch 15/100\n",
            "12/12 [==============================] - 2s 195ms/step - loss: 3.1963e-04 - val_loss: 0.0157\n",
            "Epoch 16/100\n",
            "12/12 [==============================] - 2s 196ms/step - loss: 3.1433e-04 - val_loss: 0.0154\n",
            "Epoch 17/100\n",
            "12/12 [==============================] - 2s 202ms/step - loss: 3.0224e-04 - val_loss: 0.0149\n",
            "Epoch 18/100\n",
            "12/12 [==============================] - 2s 202ms/step - loss: 2.8404e-04 - val_loss: 0.0144\n",
            "Epoch 19/100\n",
            "12/12 [==============================] - 2s 194ms/step - loss: 2.8057e-04 - val_loss: 0.0139\n",
            "Epoch 20/100\n",
            "12/12 [==============================] - 2s 199ms/step - loss: 2.7315e-04 - val_loss: 0.0136\n",
            "Epoch 21/100\n",
            "12/12 [==============================] - 2s 199ms/step - loss: 2.9026e-04 - val_loss: 0.0138\n",
            "Epoch 22/100\n",
            "12/12 [==============================] - 2s 200ms/step - loss: 3.4486e-04 - val_loss: 0.0132\n",
            "Epoch 23/100\n",
            "12/12 [==============================] - 2s 199ms/step - loss: 3.0101e-04 - val_loss: 0.0129\n",
            "Epoch 24/100\n",
            "12/12 [==============================] - 2s 196ms/step - loss: 2.5460e-04 - val_loss: 0.0126\n",
            "Epoch 25/100\n",
            "12/12 [==============================] - 2s 198ms/step - loss: 2.4316e-04 - val_loss: 0.0124\n",
            "Epoch 26/100\n",
            "12/12 [==============================] - 2s 200ms/step - loss: 2.5838e-04 - val_loss: 0.0128\n",
            "Epoch 27/100\n",
            "12/12 [==============================] - 2s 199ms/step - loss: 2.8493e-04 - val_loss: 0.0119\n",
            "Epoch 28/100\n",
            "12/12 [==============================] - 2s 198ms/step - loss: 2.4763e-04 - val_loss: 0.0120\n",
            "Epoch 29/100\n",
            "12/12 [==============================] - 2s 195ms/step - loss: 2.4792e-04 - val_loss: 0.0115\n",
            "Epoch 30/100\n",
            "12/12 [==============================] - 2s 195ms/step - loss: 2.4558e-04 - val_loss: 0.0117\n",
            "Epoch 31/100\n",
            "12/12 [==============================] - 2s 201ms/step - loss: 2.2172e-04 - val_loss: 0.0113\n",
            "Epoch 32/100\n",
            "12/12 [==============================] - 2s 202ms/step - loss: 2.2560e-04 - val_loss: 0.0111\n",
            "Epoch 33/100\n",
            "12/12 [==============================] - 2s 196ms/step - loss: 2.1634e-04 - val_loss: 0.0110\n",
            "Epoch 34/100\n",
            "12/12 [==============================] - 2s 199ms/step - loss: 2.3452e-04 - val_loss: 0.0111\n",
            "Epoch 35/100\n",
            "12/12 [==============================] - 2s 199ms/step - loss: 2.1553e-04 - val_loss: 0.0109\n",
            "Epoch 36/100\n",
            "12/12 [==============================] - 2s 200ms/step - loss: 2.2514e-04 - val_loss: 0.0109\n",
            "Epoch 37/100\n",
            "12/12 [==============================] - 2s 197ms/step - loss: 2.2070e-04 - val_loss: 0.0107\n",
            "Epoch 38/100\n",
            "12/12 [==============================] - 2s 197ms/step - loss: 2.3945e-04 - val_loss: 0.0102\n",
            "Epoch 39/100\n",
            "12/12 [==============================] - 2s 198ms/step - loss: 2.1672e-04 - val_loss: 0.0101\n",
            "Epoch 40/100\n",
            "12/12 [==============================] - 2s 199ms/step - loss: 2.0704e-04 - val_loss: 0.0100\n",
            "Epoch 41/100\n",
            "12/12 [==============================] - 2s 197ms/step - loss: 2.0409e-04 - val_loss: 0.0098\n",
            "Epoch 42/100\n",
            "12/12 [==============================] - 2s 201ms/step - loss: 2.0310e-04 - val_loss: 0.0098\n",
            "Epoch 43/100\n",
            "12/12 [==============================] - 2s 201ms/step - loss: 2.1073e-04 - val_loss: 0.0099\n",
            "Epoch 44/100\n",
            "12/12 [==============================] - 2s 197ms/step - loss: 2.0568e-04 - val_loss: 0.0096\n",
            "Epoch 45/100\n",
            "12/12 [==============================] - 2s 203ms/step - loss: 1.9408e-04 - val_loss: 0.0098\n",
            "Epoch 46/100\n",
            "12/12 [==============================] - 2s 200ms/step - loss: 1.9157e-04 - val_loss: 0.0094\n",
            "Epoch 47/100\n",
            "12/12 [==============================] - 2s 198ms/step - loss: 2.1049e-04 - val_loss: 0.0097\n",
            "Epoch 48/100\n",
            "12/12 [==============================] - 2s 198ms/step - loss: 1.9556e-04 - val_loss: 0.0104\n",
            "Epoch 49/100\n",
            "12/12 [==============================] - 2s 197ms/step - loss: 2.3979e-04 - val_loss: 0.0090\n",
            "Epoch 50/100\n",
            "12/12 [==============================] - 2s 197ms/step - loss: 2.3624e-04 - val_loss: 0.0088\n",
            "Epoch 51/100\n",
            "12/12 [==============================] - 2s 198ms/step - loss: 2.5287e-04 - val_loss: 0.0095\n",
            "Epoch 52/100\n",
            "12/12 [==============================] - 2s 200ms/step - loss: 2.1866e-04 - val_loss: 0.0087\n",
            "Epoch 53/100\n",
            "12/12 [==============================] - 2s 201ms/step - loss: 1.9288e-04 - val_loss: 0.0088\n",
            "Epoch 54/100\n",
            "12/12 [==============================] - 2s 199ms/step - loss: 1.9384e-04 - val_loss: 0.0090\n",
            "Epoch 55/100\n",
            "12/12 [==============================] - 2s 195ms/step - loss: 1.7853e-04 - val_loss: 0.0088\n",
            "Epoch 56/100\n",
            "12/12 [==============================] - 2s 202ms/step - loss: 1.8250e-04 - val_loss: 0.0088\n",
            "Epoch 57/100\n",
            "12/12 [==============================] - 2s 205ms/step - loss: 2.3014e-04 - val_loss: 0.0090\n",
            "Epoch 58/100\n",
            "12/12 [==============================] - 2s 203ms/step - loss: 2.1700e-04 - val_loss: 0.0087\n",
            "Epoch 59/100\n",
            "12/12 [==============================] - 2s 199ms/step - loss: 1.7356e-04 - val_loss: 0.0084\n",
            "Epoch 60/100\n",
            "12/12 [==============================] - 2s 207ms/step - loss: 1.9551e-04 - val_loss: 0.0091\n",
            "Epoch 61/100\n",
            "12/12 [==============================] - 2s 202ms/step - loss: 2.3150e-04 - val_loss: 0.0084\n",
            "Epoch 62/100\n",
            "12/12 [==============================] - 2s 203ms/step - loss: 2.0322e-04 - val_loss: 0.0085\n",
            "Epoch 63/100\n",
            "12/12 [==============================] - 2s 200ms/step - loss: 1.7497e-04 - val_loss: 0.0083\n",
            "Epoch 64/100\n",
            "12/12 [==============================] - 2s 199ms/step - loss: 1.6828e-04 - val_loss: 0.0086\n",
            "Epoch 65/100\n",
            "12/12 [==============================] - 2s 202ms/step - loss: 1.6945e-04 - val_loss: 0.0085\n",
            "Epoch 66/100\n",
            "12/12 [==============================] - 2s 198ms/step - loss: 1.6917e-04 - val_loss: 0.0086\n",
            "Epoch 67/100\n",
            "12/12 [==============================] - 2s 201ms/step - loss: 1.7161e-04 - val_loss: 0.0084\n",
            "Epoch 68/100\n",
            "12/12 [==============================] - 2s 197ms/step - loss: 1.5678e-04 - val_loss: 0.0083\n",
            "Epoch 69/100\n",
            "12/12 [==============================] - 2s 200ms/step - loss: 1.5663e-04 - val_loss: 0.0084\n",
            "Epoch 70/100\n",
            "12/12 [==============================] - 2s 202ms/step - loss: 1.5419e-04 - val_loss: 0.0084\n",
            "Epoch 71/100\n",
            "12/12 [==============================] - 2s 201ms/step - loss: 1.5831e-04 - val_loss: 0.0088\n",
            "Epoch 72/100\n",
            "12/12 [==============================] - 2s 201ms/step - loss: 2.1062e-04 - val_loss: 0.0079\n",
            "Epoch 73/100\n",
            "12/12 [==============================] - 2s 202ms/step - loss: 2.1324e-04 - val_loss: 0.0073\n",
            "Epoch 74/100\n",
            "12/12 [==============================] - 2s 201ms/step - loss: 1.9687e-04 - val_loss: 0.0073\n",
            "Epoch 75/100\n",
            "12/12 [==============================] - 2s 200ms/step - loss: 1.5980e-04 - val_loss: 0.0072\n",
            "Epoch 76/100\n",
            "12/12 [==============================] - 2s 201ms/step - loss: 1.4769e-04 - val_loss: 0.0076\n",
            "Epoch 77/100\n",
            "12/12 [==============================] - 2s 208ms/step - loss: 1.4853e-04 - val_loss: 0.0075\n",
            "Epoch 78/100\n",
            "12/12 [==============================] - 2s 197ms/step - loss: 1.5585e-04 - val_loss: 0.0076\n",
            "Epoch 79/100\n",
            "12/12 [==============================] - 2s 199ms/step - loss: 1.7820e-04 - val_loss: 0.0079\n",
            "Epoch 80/100\n",
            "12/12 [==============================] - 2s 198ms/step - loss: 1.5650e-04 - val_loss: 0.0073\n",
            "Epoch 81/100\n",
            "12/12 [==============================] - 2s 200ms/step - loss: 1.4342e-04 - val_loss: 0.0072\n",
            "Epoch 82/100\n",
            "12/12 [==============================] - 2s 204ms/step - loss: 1.3809e-04 - val_loss: 0.0072\n",
            "Epoch 83/100\n",
            "12/12 [==============================] - 2s 197ms/step - loss: 1.3973e-04 - val_loss: 0.0074\n",
            "Epoch 84/100\n",
            "12/12 [==============================] - 2s 203ms/step - loss: 1.6734e-04 - val_loss: 0.0071\n",
            "Epoch 85/100\n",
            "12/12 [==============================] - 2s 200ms/step - loss: 1.3966e-04 - val_loss: 0.0069\n",
            "Epoch 86/100\n",
            "12/12 [==============================] - 2s 198ms/step - loss: 1.4814e-04 - val_loss: 0.0072\n",
            "Epoch 87/100\n",
            "12/12 [==============================] - 2s 196ms/step - loss: 1.4854e-04 - val_loss: 0.0068\n",
            "Epoch 88/100\n",
            "12/12 [==============================] - 2s 199ms/step - loss: 1.3343e-04 - val_loss: 0.0067\n",
            "Epoch 89/100\n",
            "12/12 [==============================] - 2s 196ms/step - loss: 1.3038e-04 - val_loss: 0.0067\n",
            "Epoch 90/100\n",
            "12/12 [==============================] - 2s 202ms/step - loss: 1.7194e-04 - val_loss: 0.0068\n",
            "Epoch 91/100\n",
            "12/12 [==============================] - 2s 199ms/step - loss: 1.4989e-04 - val_loss: 0.0065\n",
            "Epoch 92/100\n",
            "12/12 [==============================] - 2s 203ms/step - loss: 1.6550e-04 - val_loss: 0.0062\n",
            "Epoch 93/100\n",
            "12/12 [==============================] - 2s 201ms/step - loss: 1.3164e-04 - val_loss: 0.0059\n",
            "Epoch 94/100\n",
            "12/12 [==============================] - 2s 197ms/step - loss: 1.3030e-04 - val_loss: 0.0060\n",
            "Epoch 95/100\n",
            "12/12 [==============================] - 2s 200ms/step - loss: 1.6616e-04 - val_loss: 0.0066\n",
            "Epoch 96/100\n",
            "12/12 [==============================] - 2s 198ms/step - loss: 1.3564e-04 - val_loss: 0.0058\n",
            "Epoch 97/100\n",
            "12/12 [==============================] - 2s 196ms/step - loss: 1.2209e-04 - val_loss: 0.0059\n",
            "Epoch 98/100\n",
            "12/12 [==============================] - 2s 205ms/step - loss: 1.1762e-04 - val_loss: 0.0061\n",
            "Epoch 99/100\n",
            "12/12 [==============================] - 2s 198ms/step - loss: 1.2189e-04 - val_loss: 0.0059\n",
            "Epoch 100/100\n",
            "12/12 [==============================] - 2s 196ms/step - loss: 1.1894e-04 - val_loss: 0.0057\n"
          ],
          "name": "stdout"
        },
        {
          "output_type": "execute_result",
          "data": {
            "text/plain": [
              "<tensorflow.python.keras.callbacks.History at 0x7f00556f6150>"
            ]
          },
          "metadata": {
            "tags": []
          },
          "execution_count": 45
        }
      ]
    },
    {
      "cell_type": "markdown",
      "metadata": {
        "id": "UBNwBgmykTVA"
      },
      "source": [
        "# Prediction and plot"
      ]
    },
    {
      "cell_type": "code",
      "metadata": {
        "id": "TrYaxfF_kY-n"
      },
      "source": [
        "import tensorflow as tf"
      ],
      "execution_count": 46,
      "outputs": []
    },
    {
      "cell_type": "code",
      "metadata": {
        "id": "kWCB2XlnkftI"
      },
      "source": [
        "train_predict = model.predict(X_train)\n",
        "test_predict = model.predict(X_test)"
      ],
      "execution_count": 47,
      "outputs": []
    },
    {
      "cell_type": "markdown",
      "metadata": {
        "id": "UTa3qHEmkuLk"
      },
      "source": [
        "**Rescaling**"
      ]
    },
    {
      "cell_type": "code",
      "metadata": {
        "id": "mT9B3OGAkx2g"
      },
      "source": [
        "train_predict = scaler.inverse_transform(train_predict)\n",
        "test_predict = scaler.inverse_transform(test_predict)"
      ],
      "execution_count": 48,
      "outputs": []
    },
    {
      "cell_type": "markdown",
      "metadata": {
        "id": "P3sg1qawlFjW"
      },
      "source": [
        "**Calculating TMSE**"
      ]
    },
    {
      "cell_type": "code",
      "metadata": {
        "colab": {
          "base_uri": "https://localhost:8080/"
        },
        "id": "DtqPhSNvlIjz",
        "outputId": "e321611f-a4bc-4ce2-eb19-749cccdd1918"
      },
      "source": [
        "import math\n",
        "from sklearn.metrics import mean_squared_error\n",
        "print(math.sqrt(mean_squared_error(y_train, train_predict)))\n",
        "print(math.sqrt(mean_squared_error(y_test, test_predict))) "
      ],
      "execution_count": 51,
      "outputs": [
        {
          "output_type": "stream",
          "text": [
            "176.46060620315018\n",
            "231.73364330015855\n"
          ],
          "name": "stdout"
        }
      ]
    },
    {
      "cell_type": "markdown",
      "metadata": {
        "id": "eehxgGcXlmL3"
      },
      "source": [
        "# Plot"
      ]
    },
    {
      "cell_type": "code",
      "metadata": {
        "colab": {
          "base_uri": "https://localhost:8080/",
          "height": 265
        },
        "id": "rPp_JDX6lnz6",
        "outputId": "2b60987d-4282-4fb3-d6b7-9eb4b84f0726"
      },
      "source": [
        "### Plotting \n",
        "# shift train predictions for plotting\n",
        "look_back=100\n",
        "trainPredictPlot = numpy.empty_like(df1)\n",
        "trainPredictPlot[:, :] = np.nan\n",
        "trainPredictPlot[look_back:len(train_predict)+look_back, :] = train_predict\n",
        "# shift test predictions for plotting\n",
        "testPredictPlot = numpy.empty_like(df1)\n",
        "testPredictPlot[:, :] = numpy.nan\n",
        "testPredictPlot[len(train_predict)+(look_back*2)+1:len(df1)-1, :] = test_predict\n",
        "# plot baseline and predictions\n",
        "plt.plot(scaler.inverse_transform(df1))\n",
        "plt.plot(trainPredictPlot)\n",
        "plt.plot(testPredictPlot)\n",
        "plt.show()"
      ],
      "execution_count": 52,
      "outputs": [
        {
          "output_type": "display_data",
          "data": {
            "image/png": "[encoded data removed]",
            "text/plain": [
              "<Figure size 432x288 with 1 Axes>"
            ]
          },
          "metadata": {
            "tags": [],
            "needs_background": "light"
          }
        }
      ]
    },
    {
      "cell_type": "markdown",
      "metadata": {
        "id": "hXdAI77ZnITG"
      },
      "source": [
        "# Predicting next 30 days"
      ]
    },
    {
      "cell_type": "markdown",
      "metadata": {
        "id": "ccsQGRl8nQi0"
      },
      "source": [
        "We used a time stamp of 100 above. It states that to predict the stock price at a particular data we need 100 days price before that."
      ]
    },
    {
      "cell_type": "code",
      "metadata": {
        "colab": {
          "base_uri": "https://localhost:8080/"
        },
        "id": "_2tF28OXnLW8",
        "outputId": "35598571-b92a-416a-e8d8-b529fb2532f1"
      },
      "source": [
        "len(test_data)"
      ],
      "execution_count": 64,
      "outputs": [
        {
          "output_type": "execute_result",
          "data": {
            "text/plain": [
              "441"
            ]
          },
          "metadata": {
            "tags": []
          },
          "execution_count": 64
        }
      ]
    },
    {
      "cell_type": "code",
      "metadata": {
        "colab": {
          "base_uri": "https://localhost:8080/"
        },
        "id": "TkOpzVT6nckU",
        "outputId": "094fed6e-c085-47d6-ae93-f963de7e5197"
      },
      "source": [
        "X_input = test_data[341:].reshape(1,-1)\n",
        "X_input.shape "
      ],
      "execution_count": 69,
      "outputs": [
        {
          "output_type": "execute_result",
          "data": {
            "text/plain": [
              "(1, 100)"
            ]
          },
          "metadata": {
            "tags": []
          },
          "execution_count": 69
        }
      ]
    },
    {
      "cell_type": "code",
      "metadata": {
        "id": "EZGh16wLn73K"
      },
      "source": [
        "temp_input=list(X_input)\n",
        "temp_input=temp_input[0].tolist()"
      ],
      "execution_count": 72,
      "outputs": []
    },
    {
      "cell_type": "code",
      "metadata": {
        "colab": {
          "base_uri": "https://localhost:8080/"
        },
        "id": "cI8mpHAtokd8",
        "outputId": "c98444b6-de1b-4d4a-8d6c-ced20d2d6c06"
      },
      "source": [
        "\n",
        "# demonstrate prediction for next 10 days\n",
        "from numpy import array\n",
        "\n",
        "lst_output=[]\n",
        "n_steps=100\n",
        "i=0\n",
        "while(i<30):\n",
        "    \n",
        "    if(len(temp_input)>100):\n",
        "        #print(temp_input)\n",
        "        X_input=np.array(temp_input[1:])\n",
        "        print(\"{} day input {}\".format(i,X_input))\n",
        "        X_input=X_input.reshape(1,-1)\n",
        "        X_input = X_input.reshape((1, n_steps, 1))\n",
        "        #print(X_input)\n",
        "        yhat = model.predict(X_input, verbose=0)\n",
        "        print(\"{} day output {}\".format(i,yhat))\n",
        "        temp_input.extend(yhat[0].tolist())\n",
        "        temp_input=temp_input[1:]\n",
        "        #print(temp_input)\n",
        "        lst_output.extend(yhat.tolist())\n",
        "        i=i+1\n",
        "    else:\n",
        "        X_input = X_input.reshape((1, n_steps,1))\n",
        "        yhat = model.predict(X_input, verbose=0)\n",
        "        print(yhat[0])\n",
        "        temp_input.extend(yhat[0].tolist())\n",
        "        print(len(temp_input))\n",
        "        lst_output.extend(yhat.tolist())\n",
        "        i=i+1\n",
        "    \n",
        "\n",
        "print(lst_output)"
      ],
      "execution_count": 73,
      "outputs": [
        {
          "output_type": "stream",
          "text": [
            "[0.10258797]\n",
            "101\n",
            "1 day input [0.09645362 0.09703819 0.09172837 0.08600448 0.08325214 0.08364186\n",
            " 0.07421571 0.07387471 0.0726325  0.06201286 0.0626705  0.0785756\n",
            " 0.07207229 0.06461906 0.05991816 0.06306021 0.05073558 0.06224425\n",
            " 0.05955281 0.06437549 0.06211029 0.06931995 0.07316836 0.07119544\n",
            " 0.06089244 0.05957716 0.06785853 0.06578819 0.05982073 0.06103858\n",
            " 0.06254871 0.06298714 0.05935795 0.06483827 0.06690861 0.07397214\n",
            " 0.0747272  0.07884353 0.08483535 0.09125341 0.08697876 0.09474864\n",
            " 0.08890296 0.09491913 0.094091   0.09574727 0.09153352 0.09248344\n",
            " 0.08868375 0.09448071 0.09545499 0.09465121 0.09267829 0.09243472\n",
            " 0.08751461 0.09014517 0.07872175 0.07933067 0.08332521 0.08446999\n",
            " 0.07628605 0.07399649 0.0663484  0.07170694 0.07774747 0.07487334\n",
            " 0.07141465 0.07102494 0.07740647 0.07282736 0.07689497 0.07640783\n",
            " 0.07628605 0.072462   0.07083009 0.07002631 0.07192615 0.06822389\n",
            " 0.07394778 0.07397214 0.07601812 0.07696804 0.07448363 0.0775039\n",
            " 0.08512763 0.08308164 0.08432385 0.08831839 0.08507892 0.0895606\n",
            " 0.09365257 0.09297058 0.09226422 0.09153352 0.09560113 0.09937646\n",
            " 0.10091095 0.10166602 0.10821804 0.10258797]\n",
            "1 day output [[0.10451457]]\n",
            "2 day input [0.09703819 0.09172837 0.08600448 0.08325214 0.08364186 0.07421571\n",
            " 0.07387471 0.0726325  0.06201286 0.0626705  0.0785756  0.07207229\n",
            " 0.06461906 0.05991816 0.06306021 0.05073558 0.06224425 0.05955281\n",
            " 0.06437549 0.06211029 0.06931995 0.07316836 0.07119544 0.06089244\n",
            " 0.05957716 0.06785853 0.06578819 0.05982073 0.06103858 0.06254871\n",
            " 0.06298714 0.05935795 0.06483827 0.06690861 0.07397214 0.0747272\n",
            " 0.07884353 0.08483535 0.09125341 0.08697876 0.09474864 0.08890296\n",
            " 0.09491913 0.094091   0.09574727 0.09153352 0.09248344 0.08868375\n",
            " 0.09448071 0.09545499 0.09465121 0.09267829 0.09243472 0.08751461\n",
            " 0.09014517 0.07872175 0.07933067 0.08332521 0.08446999 0.07628605\n",
            " 0.07399649 0.0663484  0.07170694 0.07774747 0.07487334 0.07141465\n",
            " 0.07102494 0.07740647 0.07282736 0.07689497 0.07640783 0.07628605\n",
            " 0.072462   0.07083009 0.07002631 0.07192615 0.06822389 0.07394778\n",
            " 0.07397214 0.07601812 0.07696804 0.07448363 0.0775039  0.08512763\n",
            " 0.08308164 0.08432385 0.08831839 0.08507892 0.0895606  0.09365257\n",
            " 0.09297058 0.09226422 0.09153352 0.09560113 0.09937646 0.10091095\n",
            " 0.10166602 0.10821804 0.10258797 0.10451457]\n",
            "2 day output [[0.10610588]]\n",
            "3 day input [0.09172837 0.08600448 0.08325214 0.08364186 0.07421571 0.07387471\n",
            " 0.0726325  0.06201286 0.0626705  0.0785756  0.07207229 0.06461906\n",
            " 0.05991816 0.06306021 0.05073558 0.06224425 0.05955281 0.06437549\n",
            " 0.06211029 0.06931995 0.07316836 0.07119544 0.06089244 0.05957716\n",
            " 0.06785853 0.06578819 0.05982073 0.06103858 0.06254871 0.06298714\n",
            " 0.05935795 0.06483827 0.06690861 0.07397214 0.0747272  0.07884353\n",
            " 0.08483535 0.09125341 0.08697876 0.09474864 0.08890296 0.09491913\n",
            " 0.094091   0.09574727 0.09153352 0.09248344 0.08868375 0.09448071\n",
            " 0.09545499 0.09465121 0.09267829 0.09243472 0.08751461 0.09014517\n",
            " 0.07872175 0.07933067 0.08332521 0.08446999 0.07628605 0.07399649\n",
            " 0.0663484  0.07170694 0.07774747 0.07487334 0.07141465 0.07102494\n",
            " 0.07740647 0.07282736 0.07689497 0.07640783 0.07628605 0.072462\n",
            " 0.07083009 0.07002631 0.07192615 0.06822389 0.07394778 0.07397214\n",
            " 0.07601812 0.07696804 0.07448363 0.0775039  0.08512763 0.08308164\n",
            " 0.08432385 0.08831839 0.08507892 0.0895606  0.09365257 0.09297058\n",
            " 0.09226422 0.09153352 0.09560113 0.09937646 0.10091095 0.10166602\n",
            " 0.10821804 0.10258797 0.10451457 0.10610588]\n",
            "3 day output [[0.10742261]]\n",
            "4 day input [0.08600448 0.08325214 0.08364186 0.07421571 0.07387471 0.0726325\n",
            " 0.06201286 0.0626705  0.0785756  0.07207229 0.06461906 0.05991816\n",
            " 0.06306021 0.05073558 0.06224425 0.05955281 0.06437549 0.06211029\n",
            " 0.06931995 0.07316836 0.07119544 0.06089244 0.05957716 0.06785853\n",
            " 0.06578819 0.05982073 0.06103858 0.06254871 0.06298714 0.05935795\n",
            " 0.06483827 0.06690861 0.07397214 0.0747272  0.07884353 0.08483535\n",
            " 0.09125341 0.08697876 0.09474864 0.08890296 0.09491913 0.094091\n",
            " 0.09574727 0.09153352 0.09248344 0.08868375 0.09448071 0.09545499\n",
            " 0.09465121 0.09267829 0.09243472 0.08751461 0.09014517 0.07872175\n",
            " 0.07933067 0.08332521 0.08446999 0.07628605 0.07399649 0.0663484\n",
            " 0.07170694 0.07774747 0.07487334 0.07141465 0.07102494 0.07740647\n",
            " 0.07282736 0.07689497 0.07640783 0.07628605 0.072462   0.07083009\n",
            " 0.07002631 0.07192615 0.06822389 0.07394778 0.07397214 0.07601812\n",
            " 0.07696804 0.07448363 0.0775039  0.08512763 0.08308164 0.08432385\n",
            " 0.08831839 0.08507892 0.0895606  0.09365257 0.09297058 0.09226422\n",
            " 0.09153352 0.09560113 0.09937646 0.10091095 0.10166602 0.10821804\n",
            " 0.10258797 0.10451457 0.10610588 0.10742261]\n",
            "4 day output [[0.10856649]]\n",
            "5 day input [0.08325214 0.08364186 0.07421571 0.07387471 0.0726325  0.06201286\n",
            " 0.0626705  0.0785756  0.07207229 0.06461906 0.05991816 0.06306021\n",
            " 0.05073558 0.06224425 0.05955281 0.06437549 0.06211029 0.06931995\n",
            " 0.07316836 0.07119544 0.06089244 0.05957716 0.06785853 0.06578819\n",
            " 0.05982073 0.06103858 0.06254871 0.06298714 0.05935795 0.06483827\n",
            " 0.06690861 0.07397214 0.0747272  0.07884353 0.08483535 0.09125341\n",
            " 0.08697876 0.09474864 0.08890296 0.09491913 0.094091   0.09574727\n",
            " 0.09153352 0.09248344 0.08868375 0.09448071 0.09545499 0.09465121\n",
            " 0.09267829 0.09243472 0.08751461 0.09014517 0.07872175 0.07933067\n",
            " 0.08332521 0.08446999 0.07628605 0.07399649 0.0663484  0.07170694\n",
            " 0.07774747 0.07487334 0.07141465 0.07102494 0.07740647 0.07282736\n",
            " 0.07689497 0.07640783 0.07628605 0.072462   0.07083009 0.07002631\n",
            " 0.07192615 0.06822389 0.07394778 0.07397214 0.07601812 0.07696804\n",
            " 0.07448363 0.0775039  0.08512763 0.08308164 0.08432385 0.08831839\n",
            " 0.08507892 0.0895606  0.09365257 0.09297058 0.09226422 0.09153352\n",
            " 0.09560113 0.09937646 0.10091095 0.10166602 0.10821804 0.10258797\n",
            " 0.10451457 0.10610588 0.10742261 0.10856649]\n",
            "5 day output [[0.10962119]]\n",
            "6 day input [0.08364186 0.07421571 0.07387471 0.0726325  0.06201286 0.0626705\n",
            " 0.0785756  0.07207229 0.06461906 0.05991816 0.06306021 0.05073558\n",
            " 0.06224425 0.05955281 0.06437549 0.06211029 0.06931995 0.07316836\n",
            " 0.07119544 0.06089244 0.05957716 0.06785853 0.06578819 0.05982073\n",
            " 0.06103858 0.06254871 0.06298714 0.05935795 0.06483827 0.06690861\n",
            " 0.07397214 0.0747272  0.07884353 0.08483535 0.09125341 0.08697876\n",
            " 0.09474864 0.08890296 0.09491913 0.094091   0.09574727 0.09153352\n",
            " 0.09248344 0.08868375 0.09448071 0.09545499 0.09465121 0.09267829\n",
            " 0.09243472 0.08751461 0.09014517 0.07872175 0.07933067 0.08332521\n",
            " 0.08446999 0.07628605 0.07399649 0.0663484  0.07170694 0.07774747\n",
            " 0.07487334 0.07141465 0.07102494 0.07740647 0.07282736 0.07689497\n",
            " 0.07640783 0.07628605 0.072462   0.07083009 0.07002631 0.07192615\n",
            " 0.06822389 0.07394778 0.07397214 0.07601812 0.07696804 0.07448363\n",
            " 0.0775039  0.08512763 0.08308164 0.08432385 0.08831839 0.08507892\n",
            " 0.0895606  0.09365257 0.09297058 0.09226422 0.09153352 0.09560113\n",
            " 0.09937646 0.10091095 0.10166602 0.10821804 0.10258797 0.10451457\n",
            " 0.10610588 0.10742261 0.10856649 0.10962119]\n",
            "6 day output [[0.11063973]]\n",
            "7 day input [0.07421571 0.07387471 0.0726325  0.06201286 0.0626705  0.0785756\n",
            " 0.07207229 0.06461906 0.05991816 0.06306021 0.05073558 0.06224425\n",
            " 0.05955281 0.06437549 0.06211029 0.06931995 0.07316836 0.07119544\n",
            " 0.06089244 0.05957716 0.06785853 0.06578819 0.05982073 0.06103858\n",
            " 0.06254871 0.06298714 0.05935795 0.06483827 0.06690861 0.07397214\n",
            " 0.0747272  0.07884353 0.08483535 0.09125341 0.08697876 0.09474864\n",
            " 0.08890296 0.09491913 0.094091   0.09574727 0.09153352 0.09248344\n",
            " 0.08868375 0.09448071 0.09545499 0.09465121 0.09267829 0.09243472\n",
            " 0.08751461 0.09014517 0.07872175 0.07933067 0.08332521 0.08446999\n",
            " 0.07628605 0.07399649 0.0663484  0.07170694 0.07774747 0.07487334\n",
            " 0.07141465 0.07102494 0.07740647 0.07282736 0.07689497 0.07640783\n",
            " 0.07628605 0.072462   0.07083009 0.07002631 0.07192615 0.06822389\n",
            " 0.07394778 0.07397214 0.07601812 0.07696804 0.07448363 0.0775039\n",
            " 0.08512763 0.08308164 0.08432385 0.08831839 0.08507892 0.0895606\n",
            " 0.09365257 0.09297058 0.09226422 0.09153352 0.09560113 0.09937646\n",
            " 0.10091095 0.10166602 0.10821804 0.10258797 0.10451457 0.10610588\n",
            " 0.10742261 0.10856649 0.10962119 0.11063973]\n",
            "7 day output [[0.11165034]]\n",
            "8 day input [0.07387471 0.0726325  0.06201286 0.0626705  0.0785756  0.07207229\n",
            " 0.06461906 0.05991816 0.06306021 0.05073558 0.06224425 0.05955281\n",
            " 0.06437549 0.06211029 0.06931995 0.07316836 0.07119544 0.06089244\n",
            " 0.05957716 0.06785853 0.06578819 0.05982073 0.06103858 0.06254871\n",
            " 0.06298714 0.05935795 0.06483827 0.06690861 0.07397214 0.0747272\n",
            " 0.07884353 0.08483535 0.09125341 0.08697876 0.09474864 0.08890296\n",
            " 0.09491913 0.094091   0.09574727 0.09153352 0.09248344 0.08868375\n",
            " 0.09448071 0.09545499 0.09465121 0.09267829 0.09243472 0.08751461\n",
            " 0.09014517 0.07872175 0.07933067 0.08332521 0.08446999 0.07628605\n",
            " 0.07399649 0.0663484  0.07170694 0.07774747 0.07487334 0.07141465\n",
            " 0.07102494 0.07740647 0.07282736 0.07689497 0.07640783 0.07628605\n",
            " 0.072462   0.07083009 0.07002631 0.07192615 0.06822389 0.07394778\n",
            " 0.07397214 0.07601812 0.07696804 0.07448363 0.0775039  0.08512763\n",
            " 0.08308164 0.08432385 0.08831839 0.08507892 0.0895606  0.09365257\n",
            " 0.09297058 0.09226422 0.09153352 0.09560113 0.09937646 0.10091095\n",
            " 0.10166602 0.10821804 0.10258797 0.10451457 0.10610588 0.10742261\n",
            " 0.10856649 0.10962119 0.11063973 0.11165034]\n",
            "8 day output [[0.11266572]]\n",
            "9 day input [0.0726325  0.06201286 0.0626705  0.0785756  0.07207229 0.06461906\n",
            " 0.05991816 0.06306021 0.05073558 0.06224425 0.05955281 0.06437549\n",
            " 0.06211029 0.06931995 0.07316836 0.07119544 0.06089244 0.05957716\n",
            " 0.06785853 0.06578819 0.05982073 0.06103858 0.06254871 0.06298714\n",
            " 0.05935795 0.06483827 0.06690861 0.07397214 0.0747272  0.07884353\n",
            " 0.08483535 0.09125341 0.08697876 0.09474864 0.08890296 0.09491913\n",
            " 0.094091   0.09574727 0.09153352 0.09248344 0.08868375 0.09448071\n",
            " 0.09545499 0.09465121 0.09267829 0.09243472 0.08751461 0.09014517\n",
            " 0.07872175 0.07933067 0.08332521 0.08446999 0.07628605 0.07399649\n",
            " 0.0663484  0.07170694 0.07774747 0.07487334 0.07141465 0.07102494\n",
            " 0.07740647 0.07282736 0.07689497 0.07640783 0.07628605 0.072462\n",
            " 0.07083009 0.07002631 0.07192615 0.06822389 0.07394778 0.07397214\n",
            " 0.07601812 0.07696804 0.07448363 0.0775039  0.08512763 0.08308164\n",
            " 0.08432385 0.08831839 0.08507892 0.0895606  0.09365257 0.09297058\n",
            " 0.09226422 0.09153352 0.09560113 0.09937646 0.10091095 0.10166602\n",
            " 0.10821804 0.10258797 0.10451457 0.10610588 0.10742261 0.10856649\n",
            " 0.10962119 0.11063973 0.11165034 0.11266572]\n",
            "9 day output [[0.11369055]]\n",
            "10 day input [0.06201286 0.0626705  0.0785756  0.07207229 0.06461906 0.05991816\n",
            " 0.06306021 0.05073558 0.06224425 0.05955281 0.06437549 0.06211029\n",
            " 0.06931995 0.07316836 0.07119544 0.06089244 0.05957716 0.06785853\n",
            " 0.06578819 0.05982073 0.06103858 0.06254871 0.06298714 0.05935795\n",
            " 0.06483827 0.06690861 0.07397214 0.0747272  0.07884353 0.08483535\n",
            " 0.09125341 0.08697876 0.09474864 0.08890296 0.09491913 0.094091\n",
            " 0.09574727 0.09153352 0.09248344 0.08868375 0.09448071 0.09545499\n",
            " 0.09465121 0.09267829 0.09243472 0.08751461 0.09014517 0.07872175\n",
            " 0.07933067 0.08332521 0.08446999 0.07628605 0.07399649 0.0663484\n",
            " 0.07170694 0.07774747 0.07487334 0.07141465 0.07102494 0.07740647\n",
            " 0.07282736 0.07689497 0.07640783 0.07628605 0.072462   0.07083009\n",
            " 0.07002631 0.07192615 0.06822389 0.07394778 0.07397214 0.07601812\n",
            " 0.07696804 0.07448363 0.0775039  0.08512763 0.08308164 0.08432385\n",
            " 0.08831839 0.08507892 0.0895606  0.09365257 0.09297058 0.09226422\n",
            " 0.09153352 0.09560113 0.09937646 0.10091095 0.10166602 0.10821804\n",
            " 0.10258797 0.10451457 0.10610588 0.10742261 0.10856649 0.10962119\n",
            " 0.11063973 0.11165034 0.11266572 0.11369055]\n",
            "10 day output [[0.11472599]]\n",
            "11 day input [0.0626705  0.0785756  0.07207229 0.06461906 0.05991816 0.06306021\n",
            " 0.05073558 0.06224425 0.05955281 0.06437549 0.06211029 0.06931995\n",
            " 0.07316836 0.07119544 0.06089244 0.05957716 0.06785853 0.06578819\n",
            " 0.05982073 0.06103858 0.06254871 0.06298714 0.05935795 0.06483827\n",
            " 0.06690861 0.07397214 0.0747272  0.07884353 0.08483535 0.09125341\n",
            " 0.08697876 0.09474864 0.08890296 0.09491913 0.094091   0.09574727\n",
            " 0.09153352 0.09248344 0.08868375 0.09448071 0.09545499 0.09465121\n",
            " 0.09267829 0.09243472 0.08751461 0.09014517 0.07872175 0.07933067\n",
            " 0.08332521 0.08446999 0.07628605 0.07399649 0.0663484  0.07170694\n",
            " 0.07774747 0.07487334 0.07141465 0.07102494 0.07740647 0.07282736\n",
            " 0.07689497 0.07640783 0.07628605 0.072462   0.07083009 0.07002631\n",
            " 0.07192615 0.06822389 0.07394778 0.07397214 0.07601812 0.07696804\n",
            " 0.07448363 0.0775039  0.08512763 0.08308164 0.08432385 0.08831839\n",
            " 0.08507892 0.0895606  0.09365257 0.09297058 0.09226422 0.09153352\n",
            " 0.09560113 0.09937646 0.10091095 0.10166602 0.10821804 0.10258797\n",
            " 0.10451457 0.10610588 0.10742261 0.10856649 0.10962119 0.11063973\n",
            " 0.11165034 0.11266572 0.11369055 0.11472599]\n",
            "11 day output [[0.11577203]]\n",
            "12 day input [0.0785756  0.07207229 0.06461906 0.05991816 0.06306021 0.05073558\n",
            " 0.06224425 0.05955281 0.06437549 0.06211029 0.06931995 0.07316836\n",
            " 0.07119544 0.06089244 0.05957716 0.06785853 0.06578819 0.05982073\n",
            " 0.06103858 0.06254871 0.06298714 0.05935795 0.06483827 0.06690861\n",
            " 0.07397214 0.0747272  0.07884353 0.08483535 0.09125341 0.08697876\n",
            " 0.09474864 0.08890296 0.09491913 0.094091   0.09574727 0.09153352\n",
            " 0.09248344 0.08868375 0.09448071 0.09545499 0.09465121 0.09267829\n",
            " 0.09243472 0.08751461 0.09014517 0.07872175 0.07933067 0.08332521\n",
            " 0.08446999 0.07628605 0.07399649 0.0663484  0.07170694 0.07774747\n",
            " 0.07487334 0.07141465 0.07102494 0.07740647 0.07282736 0.07689497\n",
            " 0.07640783 0.07628605 0.072462   0.07083009 0.07002631 0.07192615\n",
            " 0.06822389 0.07394778 0.07397214 0.07601812 0.07696804 0.07448363\n",
            " 0.0775039  0.08512763 0.08308164 0.08432385 0.08831839 0.08507892\n",
            " 0.0895606  0.09365257 0.09297058 0.09226422 0.09153352 0.09560113\n",
            " 0.09937646 0.10091095 0.10166602 0.10821804 0.10258797 0.10451457\n",
            " 0.10610588 0.10742261 0.10856649 0.10962119 0.11063973 0.11165034\n",
            " 0.11266572 0.11369055 0.11472599 0.11577203]\n",
            "12 day output [[0.11682829]]\n",
            "13 day input [0.07207229 0.06461906 0.05991816 0.06306021 0.05073558 0.06224425\n",
            " 0.05955281 0.06437549 0.06211029 0.06931995 0.07316836 0.07119544\n",
            " 0.06089244 0.05957716 0.06785853 0.06578819 0.05982073 0.06103858\n",
            " 0.06254871 0.06298714 0.05935795 0.06483827 0.06690861 0.07397214\n",
            " 0.0747272  0.07884353 0.08483535 0.09125341 0.08697876 0.09474864\n",
            " 0.08890296 0.09491913 0.094091   0.09574727 0.09153352 0.09248344\n",
            " 0.08868375 0.09448071 0.09545499 0.09465121 0.09267829 0.09243472\n",
            " 0.08751461 0.09014517 0.07872175 0.07933067 0.08332521 0.08446999\n",
            " 0.07628605 0.07399649 0.0663484  0.07170694 0.07774747 0.07487334\n",
            " 0.07141465 0.07102494 0.07740647 0.07282736 0.07689497 0.07640783\n",
            " 0.07628605 0.072462   0.07083009 0.07002631 0.07192615 0.06822389\n",
            " 0.07394778 0.07397214 0.07601812 0.07696804 0.07448363 0.0775039\n",
            " 0.08512763 0.08308164 0.08432385 0.08831839 0.08507892 0.0895606\n",
            " 0.09365257 0.09297058 0.09226422 0.09153352 0.09560113 0.09937646\n",
            " 0.10091095 0.10166602 0.10821804 0.10258797 0.10451457 0.10610588\n",
            " 0.10742261 0.10856649 0.10962119 0.11063973 0.11165034 0.11266572\n",
            " 0.11369055 0.11472599 0.11577203 0.11682829]\n",
            "13 day output [[0.11789434]]\n",
            "14 day input [0.06461906 0.05991816 0.06306021 0.05073558 0.06224425 0.05955281\n",
            " 0.06437549 0.06211029 0.06931995 0.07316836 0.07119544 0.06089244\n",
            " 0.05957716 0.06785853 0.06578819 0.05982073 0.06103858 0.06254871\n",
            " 0.06298714 0.05935795 0.06483827 0.06690861 0.07397214 0.0747272\n",
            " 0.07884353 0.08483535 0.09125341 0.08697876 0.09474864 0.08890296\n",
            " 0.09491913 0.094091   0.09574727 0.09153352 0.09248344 0.08868375\n",
            " 0.09448071 0.09545499 0.09465121 0.09267829 0.09243472 0.08751461\n",
            " 0.09014517 0.07872175 0.07933067 0.08332521 0.08446999 0.07628605\n",
            " 0.07399649 0.0663484  0.07170694 0.07774747 0.07487334 0.07141465\n",
            " 0.07102494 0.07740647 0.07282736 0.07689497 0.07640783 0.07628605\n",
            " 0.072462   0.07083009 0.07002631 0.07192615 0.06822389 0.07394778\n",
            " 0.07397214 0.07601812 0.07696804 0.07448363 0.0775039  0.08512763\n",
            " 0.08308164 0.08432385 0.08831839 0.08507892 0.0895606  0.09365257\n",
            " 0.09297058 0.09226422 0.09153352 0.09560113 0.09937646 0.10091095\n",
            " 0.10166602 0.10821804 0.10258797 0.10451457 0.10610588 0.10742261\n",
            " 0.10856649 0.10962119 0.11063973 0.11165034 0.11266572 0.11369055\n",
            " 0.11472599 0.11577203 0.11682829 0.11789434]\n",
            "14 day output [[0.11896963]]\n",
            "15 day input [0.05991816 0.06306021 0.05073558 0.06224425 0.05955281 0.06437549\n",
            " 0.06211029 0.06931995 0.07316836 0.07119544 0.06089244 0.05957716\n",
            " 0.06785853 0.06578819 0.05982073 0.06103858 0.06254871 0.06298714\n",
            " 0.05935795 0.06483827 0.06690861 0.07397214 0.0747272  0.07884353\n",
            " 0.08483535 0.09125341 0.08697876 0.09474864 0.08890296 0.09491913\n",
            " 0.094091   0.09574727 0.09153352 0.09248344 0.08868375 0.09448071\n",
            " 0.09545499 0.09465121 0.09267829 0.09243472 0.08751461 0.09014517\n",
            " 0.07872175 0.07933067 0.08332521 0.08446999 0.07628605 0.07399649\n",
            " 0.0663484  0.07170694 0.07774747 0.07487334 0.07141465 0.07102494\n",
            " 0.07740647 0.07282736 0.07689497 0.07640783 0.07628605 0.072462\n",
            " 0.07083009 0.07002631 0.07192615 0.06822389 0.07394778 0.07397214\n",
            " 0.07601812 0.07696804 0.07448363 0.0775039  0.08512763 0.08308164\n",
            " 0.08432385 0.08831839 0.08507892 0.0895606  0.09365257 0.09297058\n",
            " 0.09226422 0.09153352 0.09560113 0.09937646 0.10091095 0.10166602\n",
            " 0.10821804 0.10258797 0.10451457 0.10610588 0.10742261 0.10856649\n",
            " 0.10962119 0.11063973 0.11165034 0.11266572 0.11369055 0.11472599\n",
            " 0.11577203 0.11682829 0.11789434 0.11896963]\n",
            "15 day output [[0.12005359]]\n",
            "16 day input [0.06306021 0.05073558 0.06224425 0.05955281 0.06437549 0.06211029\n",
            " 0.06931995 0.07316836 0.07119544 0.06089244 0.05957716 0.06785853\n",
            " 0.06578819 0.05982073 0.06103858 0.06254871 0.06298714 0.05935795\n",
            " 0.06483827 0.06690861 0.07397214 0.0747272  0.07884353 0.08483535\n",
            " 0.09125341 0.08697876 0.09474864 0.08890296 0.09491913 0.094091\n",
            " 0.09574727 0.09153352 0.09248344 0.08868375 0.09448071 0.09545499\n",
            " 0.09465121 0.09267829 0.09243472 0.08751461 0.09014517 0.07872175\n",
            " 0.07933067 0.08332521 0.08446999 0.07628605 0.07399649 0.0663484\n",
            " 0.07170694 0.07774747 0.07487334 0.07141465 0.07102494 0.07740647\n",
            " 0.07282736 0.07689497 0.07640783 0.07628605 0.072462   0.07083009\n",
            " 0.07002631 0.07192615 0.06822389 0.07394778 0.07397214 0.07601812\n",
            " 0.07696804 0.07448363 0.0775039  0.08512763 0.08308164 0.08432385\n",
            " 0.08831839 0.08507892 0.0895606  0.09365257 0.09297058 0.09226422\n",
            " 0.09153352 0.09560113 0.09937646 0.10091095 0.10166602 0.10821804\n",
            " 0.10258797 0.10451457 0.10610588 0.10742261 0.10856649 0.10962119\n",
            " 0.11063973 0.11165034 0.11266572 0.11369055 0.11472599 0.11577203\n",
            " 0.11682829 0.11789434 0.11896963 0.12005359]\n",
            "16 day output [[0.12114555]]\n",
            "17 day input [0.05073558 0.06224425 0.05955281 0.06437549 0.06211029 0.06931995\n",
            " 0.07316836 0.07119544 0.06089244 0.05957716 0.06785853 0.06578819\n",
            " 0.05982073 0.06103858 0.06254871 0.06298714 0.05935795 0.06483827\n",
            " 0.06690861 0.07397214 0.0747272  0.07884353 0.08483535 0.09125341\n",
            " 0.08697876 0.09474864 0.08890296 0.09491913 0.094091   0.09574727\n",
            " 0.09153352 0.09248344 0.08868375 0.09448071 0.09545499 0.09465121\n",
            " 0.09267829 0.09243472 0.08751461 0.09014517 0.07872175 0.07933067\n",
            " 0.08332521 0.08446999 0.07628605 0.07399649 0.0663484  0.07170694\n",
            " 0.07774747 0.07487334 0.07141465 0.07102494 0.07740647 0.07282736\n",
            " 0.07689497 0.07640783 0.07628605 0.072462   0.07083009 0.07002631\n",
            " 0.07192615 0.06822389 0.07394778 0.07397214 0.07601812 0.07696804\n",
            " 0.07448363 0.0775039  0.08512763 0.08308164 0.08432385 0.08831839\n",
            " 0.08507892 0.0895606  0.09365257 0.09297058 0.09226422 0.09153352\n",
            " 0.09560113 0.09937646 0.10091095 0.10166602 0.10821804 0.10258797\n",
            " 0.10451457 0.10610588 0.10742261 0.10856649 0.10962119 0.11063973\n",
            " 0.11165034 0.11266572 0.11369055 0.11472599 0.11577203 0.11682829\n",
            " 0.11789434 0.11896963 0.12005359 0.12114555]\n",
            "17 day output [[0.12224473]]\n",
            "18 day input [0.06224425 0.05955281 0.06437549 0.06211029 0.06931995 0.07316836\n",
            " 0.07119544 0.06089244 0.05957716 0.06785853 0.06578819 0.05982073\n",
            " 0.06103858 0.06254871 0.06298714 0.05935795 0.06483827 0.06690861\n",
            " 0.07397214 0.0747272  0.07884353 0.08483535 0.09125341 0.08697876\n",
            " 0.09474864 0.08890296 0.09491913 0.094091   0.09574727 0.09153352\n",
            " 0.09248344 0.08868375 0.09448071 0.09545499 0.09465121 0.09267829\n",
            " 0.09243472 0.08751461 0.09014517 0.07872175 0.07933067 0.08332521\n",
            " 0.08446999 0.07628605 0.07399649 0.0663484  0.07170694 0.07774747\n",
            " 0.07487334 0.07141465 0.07102494 0.07740647 0.07282736 0.07689497\n",
            " 0.07640783 0.07628605 0.072462   0.07083009 0.07002631 0.07192615\n",
            " 0.06822389 0.07394778 0.07397214 0.07601812 0.07696804 0.07448363\n",
            " 0.0775039  0.08512763 0.08308164 0.08432385 0.08831839 0.08507892\n",
            " 0.0895606  0.09365257 0.09297058 0.09226422 0.09153352 0.09560113\n",
            " 0.09937646 0.10091095 0.10166602 0.10821804 0.10258797 0.10451457\n",
            " 0.10610588 0.10742261 0.10856649 0.10962119 0.11063973 0.11165034\n",
            " 0.11266572 0.11369055 0.11472599 0.11577203 0.11682829 0.11789434\n",
            " 0.11896963 0.12005359 0.12114555 0.12224473]\n",
            "18 day output [[0.12335036]]\n",
            "19 day input [0.05955281 0.06437549 0.06211029 0.06931995 0.07316836 0.07119544\n",
            " 0.06089244 0.05957716 0.06785853 0.06578819 0.05982073 0.06103858\n",
            " 0.06254871 0.06298714 0.05935795 0.06483827 0.06690861 0.07397214\n",
            " 0.0747272  0.07884353 0.08483535 0.09125341 0.08697876 0.09474864\n",
            " 0.08890296 0.09491913 0.094091   0.09574727 0.09153352 0.09248344\n",
            " 0.08868375 0.09448071 0.09545499 0.09465121 0.09267829 0.09243472\n",
            " 0.08751461 0.09014517 0.07872175 0.07933067 0.08332521 0.08446999\n",
            " 0.07628605 0.07399649 0.0663484  0.07170694 0.07774747 0.07487334\n",
            " 0.07141465 0.07102494 0.07740647 0.07282736 0.07689497 0.07640783\n",
            " 0.07628605 0.072462   0.07083009 0.07002631 0.07192615 0.06822389\n",
            " 0.07394778 0.07397214 0.07601812 0.07696804 0.07448363 0.0775039\n",
            " 0.08512763 0.08308164 0.08432385 0.08831839 0.08507892 0.0895606\n",
            " 0.09365257 0.09297058 0.09226422 0.09153352 0.09560113 0.09937646\n",
            " 0.10091095 0.10166602 0.10821804 0.10258797 0.10451457 0.10610588\n",
            " 0.10742261 0.10856649 0.10962119 0.11063973 0.11165034 0.11266572\n",
            " 0.11369055 0.11472599 0.11577203 0.11682829 0.11789434 0.11896963\n",
            " 0.12005359 0.12114555 0.12224473 0.12335036]\n",
            "19 day output [[0.12446166]]\n",
            "20 day input [0.06437549 0.06211029 0.06931995 0.07316836 0.07119544 0.06089244\n",
            " 0.05957716 0.06785853 0.06578819 0.05982073 0.06103858 0.06254871\n",
            " 0.06298714 0.05935795 0.06483827 0.06690861 0.07397214 0.0747272\n",
            " 0.07884353 0.08483535 0.09125341 0.08697876 0.09474864 0.08890296\n",
            " 0.09491913 0.094091   0.09574727 0.09153352 0.09248344 0.08868375\n",
            " 0.09448071 0.09545499 0.09465121 0.09267829 0.09243472 0.08751461\n",
            " 0.09014517 0.07872175 0.07933067 0.08332521 0.08446999 0.07628605\n",
            " 0.07399649 0.0663484  0.07170694 0.07774747 0.07487334 0.07141465\n",
            " 0.07102494 0.07740647 0.07282736 0.07689497 0.07640783 0.07628605\n",
            " 0.072462   0.07083009 0.07002631 0.07192615 0.06822389 0.07394778\n",
            " 0.07397214 0.07601812 0.07696804 0.07448363 0.0775039  0.08512763\n",
            " 0.08308164 0.08432385 0.08831839 0.08507892 0.0895606  0.09365257\n",
            " 0.09297058 0.09226422 0.09153352 0.09560113 0.09937646 0.10091095\n",
            " 0.10166602 0.10821804 0.10258797 0.10451457 0.10610588 0.10742261\n",
            " 0.10856649 0.10962119 0.11063973 0.11165034 0.11266572 0.11369055\n",
            " 0.11472599 0.11577203 0.11682829 0.11789434 0.11896963 0.12005359\n",
            " 0.12114555 0.12224473 0.12335036 0.12446166]\n",
            "20 day output [[0.1255779]]\n",
            "21 day input [0.06211029 0.06931995 0.07316836 0.07119544 0.06089244 0.05957716\n",
            " 0.06785853 0.06578819 0.05982073 0.06103858 0.06254871 0.06298714\n",
            " 0.05935795 0.06483827 0.06690861 0.07397214 0.0747272  0.07884353\n",
            " 0.08483535 0.09125341 0.08697876 0.09474864 0.08890296 0.09491913\n",
            " 0.094091   0.09574727 0.09153352 0.09248344 0.08868375 0.09448071\n",
            " 0.09545499 0.09465121 0.09267829 0.09243472 0.08751461 0.09014517\n",
            " 0.07872175 0.07933067 0.08332521 0.08446999 0.07628605 0.07399649\n",
            " 0.0663484  0.07170694 0.07774747 0.07487334 0.07141465 0.07102494\n",
            " 0.07740647 0.07282736 0.07689497 0.07640783 0.07628605 0.072462\n",
            " 0.07083009 0.07002631 0.07192615 0.06822389 0.07394778 0.07397214\n",
            " 0.07601812 0.07696804 0.07448363 0.0775039  0.08512763 0.08308164\n",
            " 0.08432385 0.08831839 0.08507892 0.0895606  0.09365257 0.09297058\n",
            " 0.09226422 0.09153352 0.09560113 0.09937646 0.10091095 0.10166602\n",
            " 0.10821804 0.10258797 0.10451457 0.10610588 0.10742261 0.10856649\n",
            " 0.10962119 0.11063973 0.11165034 0.11266572 0.11369055 0.11472599\n",
            " 0.11577203 0.11682829 0.11789434 0.11896963 0.12005359 0.12114555\n",
            " 0.12224473 0.12335036 0.12446166 0.1255779 ]\n",
            "21 day output [[0.12669848]]\n",
            "22 day input [0.06931995 0.07316836 0.07119544 0.06089244 0.05957716 0.06785853\n",
            " 0.06578819 0.05982073 0.06103858 0.06254871 0.06298714 0.05935795\n",
            " 0.06483827 0.06690861 0.07397214 0.0747272  0.07884353 0.08483535\n",
            " 0.09125341 0.08697876 0.09474864 0.08890296 0.09491913 0.094091\n",
            " 0.09574727 0.09153352 0.09248344 0.08868375 0.09448071 0.09545499\n",
            " 0.09465121 0.09267829 0.09243472 0.08751461 0.09014517 0.07872175\n",
            " 0.07933067 0.08332521 0.08446999 0.07628605 0.07399649 0.0663484\n",
            " 0.07170694 0.07774747 0.07487334 0.07141465 0.07102494 0.07740647\n",
            " 0.07282736 0.07689497 0.07640783 0.07628605 0.072462   0.07083009\n",
            " 0.07002631 0.07192615 0.06822389 0.07394778 0.07397214 0.07601812\n",
            " 0.07696804 0.07448363 0.0775039  0.08512763 0.08308164 0.08432385\n",
            " 0.08831839 0.08507892 0.0895606  0.09365257 0.09297058 0.09226422\n",
            " 0.09153352 0.09560113 0.09937646 0.10091095 0.10166602 0.10821804\n",
            " 0.10258797 0.10451457 0.10610588 0.10742261 0.10856649 0.10962119\n",
            " 0.11063973 0.11165034 0.11266572 0.11369055 0.11472599 0.11577203\n",
            " 0.11682829 0.11789434 0.11896963 0.12005359 0.12114555 0.12224473\n",
            " 0.12335036 0.12446166 0.1255779  0.12669848]\n",
            "22 day output [[0.12782271]]\n",
            "23 day input [0.07316836 0.07119544 0.06089244 0.05957716 0.06785853 0.06578819\n",
            " 0.05982073 0.06103858 0.06254871 0.06298714 0.05935795 0.06483827\n",
            " 0.06690861 0.07397214 0.0747272  0.07884353 0.08483535 0.09125341\n",
            " 0.08697876 0.09474864 0.08890296 0.09491913 0.094091   0.09574727\n",
            " 0.09153352 0.09248344 0.08868375 0.09448071 0.09545499 0.09465121\n",
            " 0.09267829 0.09243472 0.08751461 0.09014517 0.07872175 0.07933067\n",
            " 0.08332521 0.08446999 0.07628605 0.07399649 0.0663484  0.07170694\n",
            " 0.07774747 0.07487334 0.07141465 0.07102494 0.07740647 0.07282736\n",
            " 0.07689497 0.07640783 0.07628605 0.072462   0.07083009 0.07002631\n",
            " 0.07192615 0.06822389 0.07394778 0.07397214 0.07601812 0.07696804\n",
            " 0.07448363 0.0775039  0.08512763 0.08308164 0.08432385 0.08831839\n",
            " 0.08507892 0.0895606  0.09365257 0.09297058 0.09226422 0.09153352\n",
            " 0.09560113 0.09937646 0.10091095 0.10166602 0.10821804 0.10258797\n",
            " 0.10451457 0.10610588 0.10742261 0.10856649 0.10962119 0.11063973\n",
            " 0.11165034 0.11266572 0.11369055 0.11472599 0.11577203 0.11682829\n",
            " 0.11789434 0.11896963 0.12005359 0.12114555 0.12224473 0.12335036\n",
            " 0.12446166 0.1255779  0.12669848 0.12782271]\n",
            "23 day output [[0.12895025]]\n",
            "24 day input [0.07119544 0.06089244 0.05957716 0.06785853 0.06578819 0.05982073\n",
            " 0.06103858 0.06254871 0.06298714 0.05935795 0.06483827 0.06690861\n",
            " 0.07397214 0.0747272  0.07884353 0.08483535 0.09125341 0.08697876\n",
            " 0.09474864 0.08890296 0.09491913 0.094091   0.09574727 0.09153352\n",
            " 0.09248344 0.08868375 0.09448071 0.09545499 0.09465121 0.09267829\n",
            " 0.09243472 0.08751461 0.09014517 0.07872175 0.07933067 0.08332521\n",
            " 0.08446999 0.07628605 0.07399649 0.0663484  0.07170694 0.07774747\n",
            " 0.07487334 0.07141465 0.07102494 0.07740647 0.07282736 0.07689497\n",
            " 0.07640783 0.07628605 0.072462   0.07083009 0.07002631 0.07192615\n",
            " 0.06822389 0.07394778 0.07397214 0.07601812 0.07696804 0.07448363\n",
            " 0.0775039  0.08512763 0.08308164 0.08432385 0.08831839 0.08507892\n",
            " 0.0895606  0.09365257 0.09297058 0.09226422 0.09153352 0.09560113\n",
            " 0.09937646 0.10091095 0.10166602 0.10821804 0.10258797 0.10451457\n",
            " 0.10610588 0.10742261 0.10856649 0.10962119 0.11063973 0.11165034\n",
            " 0.11266572 0.11369055 0.11472599 0.11577203 0.11682829 0.11789434\n",
            " 0.11896963 0.12005359 0.12114555 0.12224473 0.12335036 0.12446166\n",
            " 0.1255779  0.12669848 0.12782271 0.12895025]\n",
            "24 day output [[0.13008064]]\n",
            "25 day input [0.06089244 0.05957716 0.06785853 0.06578819 0.05982073 0.06103858\n",
            " 0.06254871 0.06298714 0.05935795 0.06483827 0.06690861 0.07397214\n",
            " 0.0747272  0.07884353 0.08483535 0.09125341 0.08697876 0.09474864\n",
            " 0.08890296 0.09491913 0.094091   0.09574727 0.09153352 0.09248344\n",
            " 0.08868375 0.09448071 0.09545499 0.09465121 0.09267829 0.09243472\n",
            " 0.08751461 0.09014517 0.07872175 0.07933067 0.08332521 0.08446999\n",
            " 0.07628605 0.07399649 0.0663484  0.07170694 0.07774747 0.07487334\n",
            " 0.07141465 0.07102494 0.07740647 0.07282736 0.07689497 0.07640783\n",
            " 0.07628605 0.072462   0.07083009 0.07002631 0.07192615 0.06822389\n",
            " 0.07394778 0.07397214 0.07601812 0.07696804 0.07448363 0.0775039\n",
            " 0.08512763 0.08308164 0.08432385 0.08831839 0.08507892 0.0895606\n",
            " 0.09365257 0.09297058 0.09226422 0.09153352 0.09560113 0.09937646\n",
            " 0.10091095 0.10166602 0.10821804 0.10258797 0.10451457 0.10610588\n",
            " 0.10742261 0.10856649 0.10962119 0.11063973 0.11165034 0.11266572\n",
            " 0.11369055 0.11472599 0.11577203 0.11682829 0.11789434 0.11896963\n",
            " 0.12005359 0.12114555 0.12224473 0.12335036 0.12446166 0.1255779\n",
            " 0.12669848 0.12782271 0.12895025 0.13008064]\n",
            "25 day output [[0.1312136]]\n",
            "26 day input [0.05957716 0.06785853 0.06578819 0.05982073 0.06103858 0.06254871\n",
            " 0.06298714 0.05935795 0.06483827 0.06690861 0.07397214 0.0747272\n",
            " 0.07884353 0.08483535 0.09125341 0.08697876 0.09474864 0.08890296\n",
            " 0.09491913 0.094091   0.09574727 0.09153352 0.09248344 0.08868375\n",
            " 0.09448071 0.09545499 0.09465121 0.09267829 0.09243472 0.08751461\n",
            " 0.09014517 0.07872175 0.07933067 0.08332521 0.08446999 0.07628605\n",
            " 0.07399649 0.0663484  0.07170694 0.07774747 0.07487334 0.07141465\n",
            " 0.07102494 0.07740647 0.07282736 0.07689497 0.07640783 0.07628605\n",
            " 0.072462   0.07083009 0.07002631 0.07192615 0.06822389 0.07394778\n",
            " 0.07397214 0.07601812 0.07696804 0.07448363 0.0775039  0.08512763\n",
            " 0.08308164 0.08432385 0.08831839 0.08507892 0.0895606  0.09365257\n",
            " 0.09297058 0.09226422 0.09153352 0.09560113 0.09937646 0.10091095\n",
            " 0.10166602 0.10821804 0.10258797 0.10451457 0.10610588 0.10742261\n",
            " 0.10856649 0.10962119 0.11063973 0.11165034 0.11266572 0.11369055\n",
            " 0.11472599 0.11577203 0.11682829 0.11789434 0.11896963 0.12005359\n",
            " 0.12114555 0.12224473 0.12335036 0.12446166 0.1255779  0.12669848\n",
            " 0.12782271 0.12895025 0.13008064 0.13121361]\n",
            "26 day output [[0.132349]]\n",
            "27 day input [0.06785853 0.06578819 0.05982073 0.06103858 0.06254871 0.06298714\n",
            " 0.05935795 0.06483827 0.06690861 0.07397214 0.0747272  0.07884353\n",
            " 0.08483535 0.09125341 0.08697876 0.09474864 0.08890296 0.09491913\n",
            " 0.094091   0.09574727 0.09153352 0.09248344 0.08868375 0.09448071\n",
            " 0.09545499 0.09465121 0.09267829 0.09243472 0.08751461 0.09014517\n",
            " 0.07872175 0.07933067 0.08332521 0.08446999 0.07628605 0.07399649\n",
            " 0.0663484  0.07170694 0.07774747 0.07487334 0.07141465 0.07102494\n",
            " 0.07740647 0.07282736 0.07689497 0.07640783 0.07628605 0.072462\n",
            " 0.07083009 0.07002631 0.07192615 0.06822389 0.07394778 0.07397214\n",
            " 0.07601812 0.07696804 0.07448363 0.0775039  0.08512763 0.08308164\n",
            " 0.08432385 0.08831839 0.08507892 0.0895606  0.09365257 0.09297058\n",
            " 0.09226422 0.09153352 0.09560113 0.09937646 0.10091095 0.10166602\n",
            " 0.10821804 0.10258797 0.10451457 0.10610588 0.10742261 0.10856649\n",
            " 0.10962119 0.11063973 0.11165034 0.11266572 0.11369055 0.11472599\n",
            " 0.11577203 0.11682829 0.11789434 0.11896963 0.12005359 0.12114555\n",
            " 0.12224473 0.12335036 0.12446166 0.1255779  0.12669848 0.12782271\n",
            " 0.12895025 0.13008064 0.13121361 0.132349  ]\n",
            "27 day output [[0.13348657]]\n",
            "28 day input [0.06578819 0.05982073 0.06103858 0.06254871 0.06298714 0.05935795\n",
            " 0.06483827 0.06690861 0.07397214 0.0747272  0.07884353 0.08483535\n",
            " 0.09125341 0.08697876 0.09474864 0.08890296 0.09491913 0.094091\n",
            " 0.09574727 0.09153352 0.09248344 0.08868375 0.09448071 0.09545499\n",
            " 0.09465121 0.09267829 0.09243472 0.08751461 0.09014517 0.07872175\n",
            " 0.07933067 0.08332521 0.08446999 0.07628605 0.07399649 0.0663484\n",
            " 0.07170694 0.07774747 0.07487334 0.07141465 0.07102494 0.07740647\n",
            " 0.07282736 0.07689497 0.07640783 0.07628605 0.072462   0.07083009\n",
            " 0.07002631 0.07192615 0.06822389 0.07394778 0.07397214 0.07601812\n",
            " 0.07696804 0.07448363 0.0775039  0.08512763 0.08308164 0.08432385\n",
            " 0.08831839 0.08507892 0.0895606  0.09365257 0.09297058 0.09226422\n",
            " 0.09153352 0.09560113 0.09937646 0.10091095 0.10166602 0.10821804\n",
            " 0.10258797 0.10451457 0.10610588 0.10742261 0.10856649 0.10962119\n",
            " 0.11063973 0.11165034 0.11266572 0.11369055 0.11472599 0.11577203\n",
            " 0.11682829 0.11789434 0.11896963 0.12005359 0.12114555 0.12224473\n",
            " 0.12335036 0.12446166 0.1255779  0.12669848 0.12782271 0.12895025\n",
            " 0.13008064 0.13121361 0.132349   0.13348657]\n",
            "28 day output [[0.13462636]]\n",
            "29 day input [0.05982073 0.06103858 0.06254871 0.06298714 0.05935795 0.06483827\n",
            " 0.06690861 0.07397214 0.0747272  0.07884353 0.08483535 0.09125341\n",
            " 0.08697876 0.09474864 0.08890296 0.09491913 0.094091   0.09574727\n",
            " 0.09153352 0.09248344 0.08868375 0.09448071 0.09545499 0.09465121\n",
            " 0.09267829 0.09243472 0.08751461 0.09014517 0.07872175 0.07933067\n",
            " 0.08332521 0.08446999 0.07628605 0.07399649 0.0663484  0.07170694\n",
            " 0.07774747 0.07487334 0.07141465 0.07102494 0.07740647 0.07282736\n",
            " 0.07689497 0.07640783 0.07628605 0.072462   0.07083009 0.07002631\n",
            " 0.07192615 0.06822389 0.07394778 0.07397214 0.07601812 0.07696804\n",
            " 0.07448363 0.0775039  0.08512763 0.08308164 0.08432385 0.08831839\n",
            " 0.08507892 0.0895606  0.09365257 0.09297058 0.09226422 0.09153352\n",
            " 0.09560113 0.09937646 0.10091095 0.10166602 0.10821804 0.10258797\n",
            " 0.10451457 0.10610588 0.10742261 0.10856649 0.10962119 0.11063973\n",
            " 0.11165034 0.11266572 0.11369055 0.11472599 0.11577203 0.11682829\n",
            " 0.11789434 0.11896963 0.12005359 0.12114555 0.12224473 0.12335036\n",
            " 0.12446166 0.1255779  0.12669848 0.12782271 0.12895025 0.13008064\n",
            " 0.13121361 0.132349   0.13348657 0.13462636]\n",
            "29 day output [[0.1357683]]\n",
            "[[0.10258796811103821], [0.10451456904411316], [0.10610587894916534], [0.1074226051568985], [0.10856648534536362], [0.10962118953466415], [0.11063972860574722], [0.11165034025907516], [0.11266572028398514], [0.11369054764509201], [0.1147259920835495], [0.11577203124761581], [0.11682829260826111], [0.11789434403181076], [0.11896962672472], [0.12005358934402466], [0.12114554643630981], [0.12224473059177399], [0.1233503594994545], [0.12446165829896927], [0.1255778968334198], [0.12669847905635834], [0.12782271206378937], [0.12895025312900543], [0.13008064031600952], [0.13121360540390015], [0.13234899938106537], [0.1334865689277649], [0.1346263587474823], [0.13576829433441162]]\n"
          ],
          "name": "stdout"
        }
      ]
    },
    {
      "cell_type": "code",
      "metadata": {
        "id": "2P9AzU9npAZM"
      },
      "source": [
        "day_new = np.arange(1,101)\n",
        "day_pred = np.arange(101,131)"
      ],
      "execution_count": 74,
      "outputs": []
    },
    {
      "cell_type": "code",
      "metadata": {
        "colab": {
          "base_uri": "https://localhost:8080/",
          "height": 283
        },
        "id": "Rd_oRluVp9RP",
        "outputId": "ce9df024-a56e-43a0-b329-7d083c6c5154"
      },
      "source": [
        "plt.plot(day_new,scaler.inverse_transform(df1[1158:]))\n",
        "plt.plot(day_pred,scaler.inverse_transform(lst_output))"
      ],
      "execution_count": 75,
      "outputs": [
        {
          "output_type": "execute_result",
          "data": {
            "text/plain": [
              "[<matplotlib.lines.Line2D at 0x7f0052336ad0>]"
            ]
          },
          "metadata": {
            "tags": []
          },
          "execution_count": 75
        },
        {
          "output_type": "display_data",
          "data": {
            "image/png": "[encoded data removed]",
            "text/plain": [
              "<Figure size 432x288 with 1 Axes>"
            ]
          },
          "metadata": {
            "tags": [],
            "needs_background": "light"
          }
        }
      ]
    },
    {
      "cell_type": "code",
      "metadata": {
        "colab": {
          "base_uri": "https://localhost:8080/",
          "height": 283
        },
        "id": "kARyBshirP6X",
        "outputId": "07793614-581e-41dd-d468-ef4ed5129430"
      },
      "source": [
        "df3=df1.tolist()\n",
        "df3.extend(lst_output)\n",
        "plt.plot(df3[1200:])"
      ],
      "execution_count": 76,
      "outputs": [
        {
          "output_type": "execute_result",
          "data": {
            "text/plain": [
              "[<matplotlib.lines.Line2D at 0x7f0051325610>]"
            ]
          },
          "metadata": {
            "tags": []
          },
          "execution_count": 76
        },
        {
          "output_type": "display_data",
          "data": {
            "image/png": "[encoded data removed]",
            "text/plain": [
              "<Figure size 432x288 with 1 Axes>"
            ]
          },
          "metadata": {
            "tags": [],
            "needs_background": "light"
          }
        }
      ]
    }
  ]
}
